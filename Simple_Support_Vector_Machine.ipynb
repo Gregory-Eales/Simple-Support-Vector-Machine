{
  "nbformat": 4,
  "nbformat_minor": 0,
  "metadata": {
    "colab": {
      "name": "Simple-Support-Vector-Machine.ipynb",
      "version": "0.3.2",
      "provenance": [],
      "collapsed_sections": [],
      "include_colab_link": true
    },
    "kernelspec": {
      "name": "python3",
      "display_name": "Python 3"
    }
  },
  "cells": [
    {
      "cell_type": "markdown",
      "metadata": {
        "id": "view-in-github",
        "colab_type": "text"
      },
      "source": [
        "[View in Colaboratory](https://colab.research.google.com/github/Gregory-Eales/Simple-Support-Vector-Machine/blob/master/Simple_Support_Vector_Machine.ipynb)"
      ]
    },
    {
      "metadata": {
        "id": "sjebYKhai8CE",
        "colab_type": "code",
        "colab": {}
      },
      "cell_type": "code",
      "source": [
        "# import dependencies\n",
        "import numpy as np\n",
        "from matplotlib import pyplot as plt"
      ],
      "execution_count": 0,
      "outputs": []
    },
    {
      "metadata": {
        "id": "d9r4Ylj_jhnz",
        "colab_type": "code",
        "colab": {}
      },
      "cell_type": "code",
      "source": [
        "# support vector machine class\n",
        "class SupportVectorMachine(object):\n",
        "    \n",
        "    # initiate variables\n",
        "    def __init__(self):\n",
        "      self.weights = np.random.rand(1, 3)\n",
        "      self.bias = np.zeros([1, 1])\n",
        "      self.epochs = 1000\n",
        "      self.alpha = 0.1\n",
        "      self.errors = []\n",
        "    \n",
        "    # optimize\n",
        "    def optimize(self, X, Y):\n",
        "      \n",
        "      # iterate through training loop\n",
        "      for epoch in range(1, self.epochs):\n",
        "        \n",
        "        # set error to zero\n",
        "        error = 0\n",
        "        \n",
        "        # train weights on each data sample\n",
        "        for i, x in enumerate(X):\n",
        "          \n",
        "          \n",
        "          # if data sample misclassified\n",
        "          if  (Y[i]*np.dot(X[i], self.weights.T)) < 1: \n",
        "            \n",
        "            # update weights when misclassified\n",
        "            self.weights = self.weights + (self.alpha * ( (X[i]*Y[i]) + ( -2*(1/epoch)*self.weights) ) )\n",
        "            error = 1\n",
        "            \n",
        "          # if data sample correctly classified  \n",
        "          else:\n",
        "            \n",
        "            # update weights with regulizer term\n",
        "            self.weights = self.weights + (self.alpha * (-2/epoch) * self.weights)\n",
        "        \n",
        "        # record error\n",
        "        self.errors.append(error)\n",
        "                            \n",
        "          \n",
        "        \n",
        "      "
      ],
      "execution_count": 0,
      "outputs": []
    },
    {
      "metadata": {
        "id": "mXG52kN2jh1x",
        "colab_type": "code",
        "colab": {}
      },
      "cell_type": "code",
      "source": [
        "# generates gaussian classification data set\n",
        "def generate_data(data_points):\n",
        "  X = []\n",
        "  Y = []\n",
        "  \n",
        "  # generate data of type -1\n",
        "  for point in range(data_points):\n",
        "    X.append(np.array([1, np.random.normal([10], scale=1), np.random.normal([10], scale=1)]))\n",
        "    Y.append(-1)\n",
        "    \n",
        "  #generate data of type 1\n",
        "  for point in range(data_points):\n",
        "    X.append(np.array([1, np.random.normal([5], scale=1), np.random.normal([5], scale=1)]))\n",
        "    Y.append(1)\n",
        "    \n",
        "  return X, Y"
      ],
      "execution_count": 0,
      "outputs": []
    },
    {
      "metadata": {
        "id": "hViheb6glnx0",
        "colab_type": "code",
        "colab": {}
      },
      "cell_type": "code",
      "source": [
        "# graphs data\n",
        "def graph_data(X):\n",
        "  \n",
        "  # initiate data holders\n",
        "  x = []\n",
        "  y = []\n",
        "  \n",
        "  # divide data into little x and y\n",
        "  for i in X:\n",
        "    x.append(i[1])\n",
        "    y.append(i[2])\n",
        "  \n",
        "  # scatter plot\n",
        "  plt.scatter(x[0:5], y[0:5])\n",
        "  plt.scatter(x[5:10], y[5:10])\n",
        "  plt.show()"
      ],
      "execution_count": 0,
      "outputs": []
    },
    {
      "metadata": {
        "id": "5nsagJjijh_i",
        "colab_type": "code",
        "colab": {}
      },
      "cell_type": "code",
      "source": [
        " X, Y = generate_data(5)"
      ],
      "execution_count": 0,
      "outputs": []
    },
    {
      "metadata": {
        "id": "GRke92YsjiIJ",
        "colab_type": "code",
        "colab": {
          "base_uri": "https://localhost:8080/",
          "height": 351
        },
        "outputId": "bb5cb974-7982-47cb-b78b-f940d74ef276"
      },
      "cell_type": "code",
      "source": [
        "graph_data(X)"
      ],
      "execution_count": 247,
      "outputs": [
        {
          "output_type": "display_data",
          "data": {
            "image/png": "[encoded data removed]",
            "text/plain": [
              "<matplotlib.figure.Figure at 0x7f698eb4f940>"
            ]
          },
          "metadata": {
            "tags": []
          }
        }
      ]
    },
    {
      "metadata": {
        "id": "gfTWd8fP8FJZ",
        "colab_type": "code",
        "colab": {
          "base_uri": "https://localhost:8080/",
          "height": 347
        },
        "outputId": "3fe3cccc-7a97-4215-8ba9-1db5dc074f31"
      },
      "cell_type": "code",
      "source": [
        "SVM = SupportVectorMachine()\n",
        "SVM.epochs = 100000\n",
        "SVM.optimize(X, Y)\n",
        "x = []\n",
        "for i in range(len(SVM.errors)):\n",
        "  x.append(i)\n",
        "plt.scatter(x, SVM.errors)\n",
        "plt.show()"
      ],
      "execution_count": 250,
      "outputs": [
        {
          "output_type": "display_data",
          "data": {
            "image/png": "[encoded data removed]",
            "text/plain": [
              "<matplotlib.figure.Figure at 0x7f698a485dd8>"
            ]
          },
          "metadata": {
            "tags": []
          }
        }
      ]
    },
    {
      "metadata": {
        "id": "U72n2yFGGAn1",
        "colab_type": "code",
        "colab": {
          "base_uri": "https://localhost:8080/",
          "height": 351
        },
        "outputId": "d725544e-2e2d-4005-c0b5-8ee66e4b1a59"
      },
      "cell_type": "code",
      "source": [
        "def graph_prediction(SVM, X):\n",
        "  w1, w2, b = SVM.weights[0][1], SVM.weights[0][2], SVM.weights[0][0]  \n",
        "  w1 = float(w1)\n",
        "  w2 = float(w2)\n",
        "  b = float(b)\n",
        "  dbx = []\n",
        "  dby = []\n",
        "  # X*W1 + Y*W2 + B = 1\n",
        "  # Y = (1 - W1 * X - B) / W2\n",
        "  for i in range(100):\n",
        "    dbx.append(i/10)\n",
        "    dby.append((1.0 - w1 * i/10 - b) / w2)\n",
        "  plt.plot(dbx, dby)\n",
        "  \n",
        "  x = []\n",
        "  y = []\n",
        "  \n",
        "  # divide data into little x and y\n",
        "  for i in X:\n",
        "    x.append(i[1])\n",
        "    y.append(i[2])\n",
        "  \n",
        "  # scatter plot\n",
        "  plt.scatter(x[0:5], y[0:5])\n",
        "  plt.scatter(x[5:10], y[5:10])\n",
        "  plt.show()\n",
        "  \n",
        "graph_prediction(SVM, X)"
      ],
      "execution_count": 251,
      "outputs": [
        {
          "output_type": "display_data",
          "data": {
            "image/png": "[encoded data removed]",
            "text/plain": [
              "<matplotlib.figure.Figure at 0x7f698a7b3c50>"
            ]
          },
          "metadata": {
            "tags": []
          }
        }
      ]
    }
  ]
}